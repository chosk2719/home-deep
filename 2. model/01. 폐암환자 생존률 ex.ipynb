{
 "cells": [
  {
   "cell_type": "markdown",
   "metadata": {},
   "source": [
    "## 폐암 수술 환자의 생존률 데이터 분석"
   ]
  },
  {
   "cell_type": "code",
   "execution_count": 23,
   "metadata": {},
   "outputs": [
    {
     "data": {
      "text/plain": [
       "'2.1.0'"
      ]
     },
     "execution_count": 23,
     "metadata": {},
     "output_type": "execute_result"
    }
   ],
   "source": [
    "import numpy as np\n",
    "import tensorflow as tf\n",
    "tf.__version__"
   ]
  },
  {
   "cell_type": "code",
   "execution_count": 24,
   "metadata": {},
   "outputs": [],
   "source": [
    "# 실행할 때마다 같은 결과를 출력하기 위한 seed 값 설정\n",
    "seed = 0 \n",
    "np.random.seed(seed)\n",
    "tf.random.set_seed(seed)"
   ]
  },
  {
   "cell_type": "code",
   "execution_count": 25,
   "metadata": {},
   "outputs": [
    {
     "data": {
      "text/plain": [
       "array([[293.  ,   1.  ,   3.8 ,   2.8 ,   0.  ,   0.  ,   0.  ,   0.  ,\n",
       "          0.  ,   0.  ,  12.  ,   0.  ,   0.  ,   0.  ,   1.  ,   0.  ,\n",
       "         62.  ,   0.  ],\n",
       "       [  1.  ,   2.  ,   2.88,   2.16,   1.  ,   0.  ,   0.  ,   0.  ,\n",
       "          1.  ,   1.  ,  14.  ,   0.  ,   0.  ,   0.  ,   1.  ,   0.  ,\n",
       "         60.  ,   0.  ],\n",
       "       [  8.  ,   2.  ,   3.19,   2.5 ,   1.  ,   0.  ,   0.  ,   0.  ,\n",
       "          1.  ,   0.  ,  11.  ,   0.  ,   0.  ,   1.  ,   1.  ,   0.  ,\n",
       "         66.  ,   1.  ]])"
      ]
     },
     "execution_count": 25,
     "metadata": {},
     "output_type": "execute_result"
    }
   ],
   "source": [
    "# 준비된 수술 환자 데이터를 불러들임\n",
    "Data_set = np.loadtxt(\"../Dataset/ThoraricSurgery.csv\", delimiter=\",\")\n",
    "Data_set[:3,:]"
   ]
  },
  {
   "cell_type": "code",
   "execution_count": 26,
   "metadata": {},
   "outputs": [
    {
     "data": {
      "text/plain": [
       "((470, 17), (470,))"
      ]
     },
     "execution_count": 26,
     "metadata": {},
     "output_type": "execute_result"
    }
   ],
   "source": [
    "# 환자의 기록과 수술 결과를 X와 Y로 구분하여 저장\n",
    "X = Data_set[:, 0:17]\n",
    "Y = Data_set[:, 17]\n",
    "X.shape, Y.shape"
   ]
  },
  {
   "cell_type": "code",
   "execution_count": 27,
   "metadata": {},
   "outputs": [],
   "source": [
    "from sklearn.model_selection import train_test_split"
   ]
  },
  {
   "cell_type": "code",
   "execution_count": 28,
   "metadata": {},
   "outputs": [],
   "source": [
    "from sklearn.model_selection import train_test_split\n",
    "# 환자의 기록과 수술 결과를 x와 y로 구분하여 저장\n",
    "from sklearn.model_selection import train_test_split\n",
    "x_train, x_test, y_train, y_test = train_test_split(X, Y, test_size=0.2, stratify=Y, random_state=seed)"
   ]
  },
  {
   "cell_type": "code",
   "execution_count": 29,
   "metadata": {},
   "outputs": [],
   "source": [
    "from tensorflow.keras.models import Sequential\n",
    "from tensorflow.keras.layers import Dense"
   ]
  },
  {
   "cell_type": "code",
   "execution_count": 30,
   "metadata": {},
   "outputs": [
    {
     "name": "stdout",
     "output_type": "stream",
     "text": [
      "Model: \"sequential_1\"\n",
      "_________________________________________________________________\n",
      "Layer (type)                 Output Shape              Param #   \n",
      "=================================================================\n",
      "dense_2 (Dense)              (None, 30)                540       \n",
      "_________________________________________________________________\n",
      "dense_3 (Dense)              (None, 1)                 31        \n",
      "=================================================================\n",
      "Total params: 571\n",
      "Trainable params: 571\n",
      "Non-trainable params: 0\n",
      "_________________________________________________________________\n"
     ]
    }
   ],
   "source": [
    "# 딥러닝 모델 설정\n",
    "model = Sequential([\n",
    "    Dense(30, input_shape=(17,), activation='relu'),\n",
    "    Dense(1, activation='sigmoid')\n",
    "])\n",
    "model.summary()"
   ]
  },
  {
   "cell_type": "code",
   "execution_count": 31,
   "metadata": {},
   "outputs": [],
   "source": [
    "# 딥러닝 환경 설정 (오차함수, 최적화함수)\n",
    "model.compile(loss='binary_crossentropy', \n",
    "              optimizer='adam', metrics=['accuracy'])"
   ]
  },
  {
   "cell_type": "code",
   "execution_count": 38,
   "metadata": {},
   "outputs": [
    {
     "name": "stdout",
     "output_type": "stream",
     "text": [
      "Train on 300 samples, validate on 76 samples\n",
      "Epoch 1/20\n",
      "300/300 [==============================] - 0s 119us/sample - loss: 0.4471 - accuracy: 0.8467 - val_loss: 0.3932 - val_accuracy: 0.8684\n",
      "Epoch 2/20\n",
      "300/300 [==============================] - 0s 114us/sample - loss: 0.4577 - accuracy: 0.8400 - val_loss: 0.4921 - val_accuracy: 0.7895\n",
      "Epoch 3/20\n",
      "300/300 [==============================] - 0s 111us/sample - loss: 0.4330 - accuracy: 0.8433 - val_loss: 0.5008 - val_accuracy: 0.8026\n",
      "Epoch 4/20\n",
      "300/300 [==============================] - 0s 114us/sample - loss: 0.4467 - accuracy: 0.8400 - val_loss: 0.3796 - val_accuracy: 0.8816\n",
      "Epoch 5/20\n",
      "300/300 [==============================] - 0s 114us/sample - loss: 0.4364 - accuracy: 0.8433 - val_loss: 0.3899 - val_accuracy: 0.8684\n",
      "Epoch 6/20\n",
      "300/300 [==============================] - 0s 115us/sample - loss: 0.4471 - accuracy: 0.8267 - val_loss: 0.3840 - val_accuracy: 0.8816\n",
      "Epoch 7/20\n",
      "300/300 [==============================] - 0s 116us/sample - loss: 0.4489 - accuracy: 0.8433 - val_loss: 0.4826 - val_accuracy: 0.8158\n",
      "Epoch 8/20\n",
      "300/300 [==============================] - 0s 112us/sample - loss: 0.4911 - accuracy: 0.8267 - val_loss: 0.4014 - val_accuracy: 0.8553\n",
      "Epoch 9/20\n",
      "300/300 [==============================] - 0s 114us/sample - loss: 0.4556 - accuracy: 0.8200 - val_loss: 0.5016 - val_accuracy: 0.7632\n",
      "Epoch 10/20\n",
      "300/300 [==============================] - 0s 112us/sample - loss: 0.4447 - accuracy: 0.8433 - val_loss: 0.4399 - val_accuracy: 0.8421\n",
      "Epoch 11/20\n",
      "300/300 [==============================] - 0s 111us/sample - loss: 0.4170 - accuracy: 0.8500 - val_loss: 0.4120 - val_accuracy: 0.8421\n",
      "Epoch 12/20\n",
      "300/300 [==============================] - 0s 113us/sample - loss: 0.4325 - accuracy: 0.8300 - val_loss: 0.3692 - val_accuracy: 0.8816\n",
      "Epoch 13/20\n",
      "300/300 [==============================] - 0s 117us/sample - loss: 0.4080 - accuracy: 0.8467 - val_loss: 0.3758 - val_accuracy: 0.8816\n",
      "Epoch 14/20\n",
      "300/300 [==============================] - 0s 113us/sample - loss: 0.4358 - accuracy: 0.8400 - val_loss: 0.3723 - val_accuracy: 0.8816\n",
      "Epoch 15/20\n",
      "300/300 [==============================] - 0s 110us/sample - loss: 0.4351 - accuracy: 0.8467 - val_loss: 0.3838 - val_accuracy: 0.8816\n",
      "Epoch 16/20\n",
      "300/300 [==============================] - 0s 115us/sample - loss: 0.4202 - accuracy: 0.8367 - val_loss: 0.3703 - val_accuracy: 0.8816\n",
      "Epoch 17/20\n",
      "300/300 [==============================] - 0s 113us/sample - loss: 0.4316 - accuracy: 0.8433 - val_loss: 0.3675 - val_accuracy: 0.8816\n",
      "Epoch 18/20\n",
      "300/300 [==============================] - 0s 105us/sample - loss: 0.4041 - accuracy: 0.8500 - val_loss: 0.4019 - val_accuracy: 0.8816\n",
      "Epoch 19/20\n",
      "300/300 [==============================] - 0s 124us/sample - loss: 0.4403 - accuracy: 0.8400 - val_loss: 0.4377 - val_accuracy: 0.8421\n",
      "Epoch 20/20\n",
      "300/300 [==============================] - 0s 111us/sample - loss: 0.4459 - accuracy: 0.8333 - val_loss: 0.4054 - val_accuracy: 0.8816\n"
     ]
    }
   ],
   "source": [
    "# 딥러닝 실행\n",
    "# validation set의 비율을 20%\n",
    "history=model.fit(x_train, y_train, validation_split=0.2, epochs=20, batch_size=10)"
   ]
  },
  {
   "cell_type": "code",
   "execution_count": 39,
   "metadata": {},
   "outputs": [
    {
     "name": "stdout",
     "output_type": "stream",
     "text": [
      "376/376 - 0s - loss: 0.5083 - accuracy: 0.8537\n",
      "\n",
      " Accuracy: 0.8537\n"
     ]
    }
   ],
   "source": [
    "# 결과 출력\n",
    "# evaluate() returns the loss value & metrics values for the model \n",
    "print(\"\\n Accuracy: %.4f\" % (model.evaluate(x_train, y_train, verbose=2))[1])"
   ]
  },
  {
   "cell_type": "code",
   "execution_count": 40,
   "metadata": {},
   "outputs": [
    {
     "data": {
      "text/plain": [
       "<tensorflow.python.keras.callbacks.History at 0x214160c1a48>"
      ]
     },
     "execution_count": 40,
     "metadata": {},
     "output_type": "execute_result"
    }
   ],
   "source": [
    "history"
   ]
  },
  {
   "cell_type": "code",
   "execution_count": 41,
   "metadata": {},
   "outputs": [],
   "source": [
    "import pandas as pd"
   ]
  },
  {
   "cell_type": "code",
   "execution_count": 43,
   "metadata": {},
   "outputs": [
    {
     "data": {
      "text/html": [
       "<div>\n",
       "<style scoped>\n",
       "    .dataframe tbody tr th:only-of-type {\n",
       "        vertical-align: middle;\n",
       "    }\n",
       "\n",
       "    .dataframe tbody tr th {\n",
       "        vertical-align: top;\n",
       "    }\n",
       "\n",
       "    .dataframe thead th {\n",
       "        text-align: right;\n",
       "    }\n",
       "</style>\n",
       "<table border=\"1\" class=\"dataframe\">\n",
       "  <thead>\n",
       "    <tr style=\"text-align: right;\">\n",
       "      <th></th>\n",
       "      <th>loss</th>\n",
       "      <th>accuracy</th>\n",
       "      <th>val_loss</th>\n",
       "      <th>val_accuracy</th>\n",
       "    </tr>\n",
       "  </thead>\n",
       "  <tbody>\n",
       "    <tr>\n",
       "      <th>0</th>\n",
       "      <td>0.447118</td>\n",
       "      <td>0.846667</td>\n",
       "      <td>0.393169</td>\n",
       "      <td>0.868421</td>\n",
       "    </tr>\n",
       "    <tr>\n",
       "      <th>1</th>\n",
       "      <td>0.457655</td>\n",
       "      <td>0.840000</td>\n",
       "      <td>0.492129</td>\n",
       "      <td>0.789474</td>\n",
       "    </tr>\n",
       "    <tr>\n",
       "      <th>2</th>\n",
       "      <td>0.432990</td>\n",
       "      <td>0.843333</td>\n",
       "      <td>0.500839</td>\n",
       "      <td>0.802632</td>\n",
       "    </tr>\n",
       "    <tr>\n",
       "      <th>3</th>\n",
       "      <td>0.446717</td>\n",
       "      <td>0.840000</td>\n",
       "      <td>0.379581</td>\n",
       "      <td>0.881579</td>\n",
       "    </tr>\n",
       "    <tr>\n",
       "      <th>4</th>\n",
       "      <td>0.436350</td>\n",
       "      <td>0.843333</td>\n",
       "      <td>0.389870</td>\n",
       "      <td>0.868421</td>\n",
       "    </tr>\n",
       "  </tbody>\n",
       "</table>\n",
       "</div>"
      ],
      "text/plain": [
       "       loss  accuracy  val_loss  val_accuracy\n",
       "0  0.447118  0.846667  0.393169      0.868421\n",
       "1  0.457655  0.840000  0.492129      0.789474\n",
       "2  0.432990  0.843333  0.500839      0.802632\n",
       "3  0.446717  0.840000  0.379581      0.881579\n",
       "4  0.436350  0.843333  0.389870      0.868421"
      ]
     },
     "execution_count": 43,
     "metadata": {},
     "output_type": "execute_result"
    }
   ],
   "source": [
    "df = pd.DataFrame(history.history)\n",
    "df.head()"
   ]
  },
  {
   "cell_type": "code",
   "execution_count": 48,
   "metadata": {},
   "outputs": [
    {
     "data": {
      "text/plain": [
       "[0.39316865135180323,\n",
       " 0.49212909999646637,\n",
       " 0.5008387330331301,\n",
       " 0.3795813884782164,\n",
       " 0.38986961661200775,\n",
       " 0.3839775704239544,\n",
       " 0.48259619662636205,\n",
       " 0.4014197176224307,\n",
       " 0.5015853204225239,\n",
       " 0.43985216750910405,\n",
       " 0.4120465544493575,\n",
       " 0.3692139924356812,\n",
       " 0.3758484248660113,\n",
       " 0.372251764920197,\n",
       " 0.38380667410398783,\n",
       " 0.37031781261688784,\n",
       " 0.36749064000813586,\n",
       " 0.40189437921109955,\n",
       " 0.43771453240984365,\n",
       " 0.4054191757581736]"
      ]
     },
     "execution_count": 48,
     "metadata": {},
     "output_type": "execute_result"
    }
   ],
   "source": [
    "history.history['accuracy']\n",
    "history.history['val_accuracy']\n",
    "history.history['loss']\n",
    "history.history['val_loss']"
   ]
  },
  {
   "cell_type": "code",
   "execution_count": null,
   "metadata": {},
   "outputs": [],
   "source": []
  },
  {
   "cell_type": "code",
   "execution_count": null,
   "metadata": {},
   "outputs": [],
   "source": []
  },
  {
   "cell_type": "code",
   "execution_count": null,
   "metadata": {},
   "outputs": [],
   "source": []
  }
 ],
 "metadata": {
  "kernelspec": {
   "display_name": "Python 3",
   "language": "python",
   "name": "python3"
  },
  "language_info": {
   "codemirror_mode": {
    "name": "ipython",
    "version": 3
   },
   "file_extension": ".py",
   "mimetype": "text/x-python",
   "name": "python",
   "nbconvert_exporter": "python",
   "pygments_lexer": "ipython3",
   "version": "3.7.7"
  }
 },
 "nbformat": 4,
 "nbformat_minor": 4
}
