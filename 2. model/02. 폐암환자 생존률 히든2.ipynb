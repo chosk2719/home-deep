{
 "cells": [
  {
   "cell_type": "markdown",
   "metadata": {},
   "source": [
    "## 폐암 수술 환자의 생존률 데이터 분석"
   ]
  },
  {
   "cell_type": "code",
   "execution_count": 21,
   "metadata": {},
   "outputs": [
    {
     "data": {
      "text/plain": [
       "'2.1.0'"
      ]
     },
     "execution_count": 21,
     "metadata": {},
     "output_type": "execute_result"
    }
   ],
   "source": [
    "import numpy as np\n",
    "import tensorflow as tf\n",
    "tf.__version__"
   ]
  },
  {
   "cell_type": "code",
   "execution_count": 22,
   "metadata": {},
   "outputs": [],
   "source": [
    "# 실행할 때마다 같은 결과를 출력하기 위한 seed 값 설정\n",
    "seed = 0 \n",
    "np.random.seed(seed)\n",
    "tf.random.set_seed(seed)"
   ]
  },
  {
   "cell_type": "code",
   "execution_count": 23,
   "metadata": {},
   "outputs": [
    {
     "data": {
      "text/plain": [
       "array([[293.  ,   1.  ,   3.8 ,   2.8 ,   0.  ,   0.  ,   0.  ,   0.  ,\n",
       "          0.  ,   0.  ,  12.  ,   0.  ,   0.  ,   0.  ,   1.  ,   0.  ,\n",
       "         62.  ,   0.  ],\n",
       "       [  1.  ,   2.  ,   2.88,   2.16,   1.  ,   0.  ,   0.  ,   0.  ,\n",
       "          1.  ,   1.  ,  14.  ,   0.  ,   0.  ,   0.  ,   1.  ,   0.  ,\n",
       "         60.  ,   0.  ],\n",
       "       [  8.  ,   2.  ,   3.19,   2.5 ,   1.  ,   0.  ,   0.  ,   0.  ,\n",
       "          1.  ,   0.  ,  11.  ,   0.  ,   0.  ,   1.  ,   1.  ,   0.  ,\n",
       "         66.  ,   1.  ]])"
      ]
     },
     "execution_count": 23,
     "metadata": {},
     "output_type": "execute_result"
    }
   ],
   "source": [
    "# 준비된 수술 환자 데이터를 불러들임\n",
    "Data_set = np.loadtxt(\"../Dataset/ThoraricSurgery.csv\", delimiter=\",\")\n",
    "Data_set[:3,:]"
   ]
  },
  {
   "cell_type": "code",
   "execution_count": 24,
   "metadata": {},
   "outputs": [
    {
     "data": {
      "text/plain": [
       "((470, 17), (470,))"
      ]
     },
     "execution_count": 24,
     "metadata": {},
     "output_type": "execute_result"
    }
   ],
   "source": [
    "# 환자의 기록과 수술 결과를 X와 Y로 구분하여 저장\n",
    "X = Data_set[:, 0:17]\n",
    "Y = Data_set[:, 17]\n",
    "X.shape, Y.shape"
   ]
  },
  {
   "cell_type": "code",
   "execution_count": 25,
   "metadata": {},
   "outputs": [],
   "source": [
    "from sklearn.model_selection import train_test_split"
   ]
  },
  {
   "cell_type": "code",
   "execution_count": 26,
   "metadata": {},
   "outputs": [],
   "source": [
    "from sklearn.model_selection import train_test_split\n",
    "# 환자의 기록과 수술 결과를 x와 y로 구분하여 저장\n",
    "from sklearn.model_selection import train_test_split\n",
    "x_train, x_test, y_train, y_test = train_test_split(X, Y, test_size=0.2, stratify=Y, random_state=seed)"
   ]
  },
  {
   "cell_type": "code",
   "execution_count": 27,
   "metadata": {},
   "outputs": [],
   "source": [
    "from tensorflow.keras.models import Sequential\n",
    "from tensorflow.keras.layers import Dense"
   ]
  },
  {
   "cell_type": "code",
   "execution_count": 32,
   "metadata": {},
   "outputs": [
    {
     "name": "stdout",
     "output_type": "stream",
     "text": [
      "Model: \"sequential_3\"\n",
      "_________________________________________________________________\n",
      "Layer (type)                 Output Shape              Param #   \n",
      "=================================================================\n",
      "dense_6 (Dense)              (None, 30)                540       \n",
      "_________________________________________________________________\n",
      "dense_7 (Dense)              (None, 1)                 31        \n",
      "=================================================================\n",
      "Total params: 571\n",
      "Trainable params: 571\n",
      "Non-trainable params: 0\n",
      "_________________________________________________________________\n"
     ]
    }
   ],
   "source": [
    "# 딥러닝 모델 설정\n",
    "model = Sequential([\n",
    "    Dense(30, input_shape=(17,), activation='relu'),\n",
    "    Dense(1, activation='sigmoid')\n",
    "])\n",
    "model.summary()"
   ]
  },
  {
   "cell_type": "code",
   "execution_count": 33,
   "metadata": {},
   "outputs": [],
   "source": [
    "# 딥러닝 환경 설정 (오차함수, 최적화함수)\n",
    "model.compile(loss='binary_crossentropy', \n",
    "              optimizer='adam', metrics=['accuracy'])"
   ]
  },
  {
   "cell_type": "code",
   "execution_count": 34,
   "metadata": {},
   "outputs": [
    {
     "name": "stdout",
     "output_type": "stream",
     "text": [
      "Train on 300 samples, validate on 76 samples\n",
      "Epoch 1/20\n",
      "300/300 [==============================] - 0s 1ms/sample - loss: 2.3123 - accuracy: 0.7700 - val_loss: 1.3956 - val_accuracy: 0.8684\n",
      "Epoch 2/20\n",
      "300/300 [==============================] - 0s 121us/sample - loss: 1.3416 - accuracy: 0.7867 - val_loss: 1.1028 - val_accuracy: 0.7237\n",
      "Epoch 3/20\n",
      "300/300 [==============================] - 0s 113us/sample - loss: 0.9237 - accuracy: 0.7967 - val_loss: 0.6462 - val_accuracy: 0.8158\n",
      "Epoch 4/20\n",
      "300/300 [==============================] - 0s 116us/sample - loss: 0.5784 - accuracy: 0.8200 - val_loss: 0.4963 - val_accuracy: 0.8553\n",
      "Epoch 5/20\n",
      "300/300 [==============================] - 0s 116us/sample - loss: 0.5299 - accuracy: 0.8000 - val_loss: 0.4882 - val_accuracy: 0.8421\n",
      "Epoch 6/20\n",
      "300/300 [==============================] - 0s 113us/sample - loss: 0.4878 - accuracy: 0.8300 - val_loss: 0.4274 - val_accuracy: 0.8684\n",
      "Epoch 7/20\n",
      "300/300 [==============================] - 0s 110us/sample - loss: 0.4808 - accuracy: 0.8333 - val_loss: 0.4776 - val_accuracy: 0.7895\n",
      "Epoch 8/20\n",
      "300/300 [==============================] - 0s 116us/sample - loss: 0.4905 - accuracy: 0.8367 - val_loss: 0.4645 - val_accuracy: 0.8421\n",
      "Epoch 9/20\n",
      "300/300 [==============================] - 0s 113us/sample - loss: 0.4904 - accuracy: 0.8167 - val_loss: 0.4974 - val_accuracy: 0.7632\n",
      "Epoch 10/20\n",
      "300/300 [==============================] - 0s 113us/sample - loss: 0.4626 - accuracy: 0.8267 - val_loss: 0.4533 - val_accuracy: 0.8158\n",
      "Epoch 11/20\n",
      "300/300 [==============================] - 0s 109us/sample - loss: 0.4402 - accuracy: 0.8400 - val_loss: 0.4250 - val_accuracy: 0.8289\n",
      "Epoch 12/20\n",
      "300/300 [==============================] - 0s 110us/sample - loss: 0.4767 - accuracy: 0.8300 - val_loss: 0.3701 - val_accuracy: 0.8816\n",
      "Epoch 13/20\n",
      "300/300 [==============================] - 0s 106us/sample - loss: 0.4338 - accuracy: 0.8500 - val_loss: 0.3645 - val_accuracy: 0.8816\n",
      "Epoch 14/20\n",
      "300/300 [==============================] - 0s 116us/sample - loss: 0.4673 - accuracy: 0.8267 - val_loss: 0.3589 - val_accuracy: 0.8816\n",
      "Epoch 15/20\n",
      "300/300 [==============================] - 0s 114us/sample - loss: 0.4612 - accuracy: 0.8267 - val_loss: 0.3687 - val_accuracy: 0.8684\n",
      "Epoch 16/20\n",
      "300/300 [==============================] - 0s 113us/sample - loss: 0.4422 - accuracy: 0.8467 - val_loss: 0.3704 - val_accuracy: 0.8816\n",
      "Epoch 17/20\n",
      "300/300 [==============================] - 0s 116us/sample - loss: 0.4756 - accuracy: 0.8333 - val_loss: 0.3757 - val_accuracy: 0.8816\n",
      "Epoch 18/20\n",
      "300/300 [==============================] - 0s 116us/sample - loss: 0.4232 - accuracy: 0.8500 - val_loss: 0.3744 - val_accuracy: 0.8816\n",
      "Epoch 19/20\n",
      "300/300 [==============================] - 0s 113us/sample - loss: 0.4563 - accuracy: 0.8333 - val_loss: 0.4243 - val_accuracy: 0.8158\n",
      "Epoch 20/20\n",
      "300/300 [==============================] - 0s 111us/sample - loss: 0.4916 - accuracy: 0.8267 - val_loss: 0.4467 - val_accuracy: 0.8816\n"
     ]
    }
   ],
   "source": [
    "# 딥러닝 실행\n",
    "# validation set의 비율을 20%\n",
    "history=model.fit(x_train, y_train, validation_split=0.2, epochs=20, batch_size=10)"
   ]
  },
  {
   "cell_type": "code",
   "execution_count": 35,
   "metadata": {},
   "outputs": [
    {
     "name": "stdout",
     "output_type": "stream",
     "text": [
      "376/376 - 0s - loss: 0.5951 - accuracy: 0.8511\n",
      "\n",
      " Accuracy: 0.8511\n"
     ]
    }
   ],
   "source": [
    "# 결과 출력\n",
    "# evaluate() returns the loss value & metrics values for the model \n",
    "print(\"\\n Accuracy: %.4f\" % (model.evaluate(x_train, y_train, verbose=2))[1])"
   ]
  },
  {
   "cell_type": "code",
   "execution_count": 36,
   "metadata": {},
   "outputs": [
    {
     "data": {
      "text/plain": [
       "<tensorflow.python.keras.callbacks.History at 0x20294905608>"
      ]
     },
     "execution_count": 36,
     "metadata": {},
     "output_type": "execute_result"
    }
   ],
   "source": [
    "history"
   ]
  },
  {
   "cell_type": "code",
   "execution_count": 37,
   "metadata": {},
   "outputs": [],
   "source": [
    "import pandas as pd"
   ]
  },
  {
   "cell_type": "code",
   "execution_count": 38,
   "metadata": {},
   "outputs": [
    {
     "data": {
      "text/html": [
       "<div>\n",
       "<style scoped>\n",
       "    .dataframe tbody tr th:only-of-type {\n",
       "        vertical-align: middle;\n",
       "    }\n",
       "\n",
       "    .dataframe tbody tr th {\n",
       "        vertical-align: top;\n",
       "    }\n",
       "\n",
       "    .dataframe thead th {\n",
       "        text-align: right;\n",
       "    }\n",
       "</style>\n",
       "<table border=\"1\" class=\"dataframe\">\n",
       "  <thead>\n",
       "    <tr style=\"text-align: right;\">\n",
       "      <th></th>\n",
       "      <th>loss</th>\n",
       "      <th>accuracy</th>\n",
       "      <th>val_loss</th>\n",
       "      <th>val_accuracy</th>\n",
       "    </tr>\n",
       "  </thead>\n",
       "  <tbody>\n",
       "    <tr>\n",
       "      <th>0</th>\n",
       "      <td>2.312280</td>\n",
       "      <td>0.770000</td>\n",
       "      <td>1.395649</td>\n",
       "      <td>0.868421</td>\n",
       "    </tr>\n",
       "    <tr>\n",
       "      <th>1</th>\n",
       "      <td>1.341554</td>\n",
       "      <td>0.786667</td>\n",
       "      <td>1.102848</td>\n",
       "      <td>0.723684</td>\n",
       "    </tr>\n",
       "    <tr>\n",
       "      <th>2</th>\n",
       "      <td>0.923731</td>\n",
       "      <td>0.796667</td>\n",
       "      <td>0.646239</td>\n",
       "      <td>0.815789</td>\n",
       "    </tr>\n",
       "    <tr>\n",
       "      <th>3</th>\n",
       "      <td>0.578388</td>\n",
       "      <td>0.820000</td>\n",
       "      <td>0.496295</td>\n",
       "      <td>0.855263</td>\n",
       "    </tr>\n",
       "    <tr>\n",
       "      <th>4</th>\n",
       "      <td>0.529856</td>\n",
       "      <td>0.800000</td>\n",
       "      <td>0.488240</td>\n",
       "      <td>0.842105</td>\n",
       "    </tr>\n",
       "  </tbody>\n",
       "</table>\n",
       "</div>"
      ],
      "text/plain": [
       "       loss  accuracy  val_loss  val_accuracy\n",
       "0  2.312280  0.770000  1.395649      0.868421\n",
       "1  1.341554  0.786667  1.102848      0.723684\n",
       "2  0.923731  0.796667  0.646239      0.815789\n",
       "3  0.578388  0.820000  0.496295      0.855263\n",
       "4  0.529856  0.800000  0.488240      0.842105"
      ]
     },
     "execution_count": 38,
     "metadata": {},
     "output_type": "execute_result"
    }
   ],
   "source": [
    "df = pd.DataFrame(history.history)\n",
    "df.head()"
   ]
  },
  {
   "cell_type": "code",
   "execution_count": 39,
   "metadata": {},
   "outputs": [
    {
     "data": {
      "text/plain": [
       "[1.3956487297913747,\n",
       " 1.1028483525702828,\n",
       " 0.6462393787346388,\n",
       " 0.4962950839023841,\n",
       " 0.48824040905425425,\n",
       " 0.42739134321087285,\n",
       " 0.4775659936039071,\n",
       " 0.4645372284086127,\n",
       " 0.49740258800356013,\n",
       " 0.45327213092854146,\n",
       " 0.4249565601348877,\n",
       " 0.3701424410468654,\n",
       " 0.36453180132727875,\n",
       " 0.35888075789338664,\n",
       " 0.36874017315475566,\n",
       " 0.37038393475507436,\n",
       " 0.37568825679390055,\n",
       " 0.3743706565154226,\n",
       " 0.4242834182162034,\n",
       " 0.4467459046526959]"
      ]
     },
     "execution_count": 39,
     "metadata": {},
     "output_type": "execute_result"
    }
   ],
   "source": [
    "history.history['accuracy']\n",
    "history.history['val_accuracy']\n",
    "history.history['loss']\n",
    "history.history['val_loss']"
   ]
  },
  {
   "cell_type": "code",
   "execution_count": null,
   "metadata": {},
   "outputs": [],
   "source": []
  },
  {
   "cell_type": "code",
   "execution_count": null,
   "metadata": {},
   "outputs": [],
   "source": []
  },
  {
   "cell_type": "code",
   "execution_count": null,
   "metadata": {},
   "outputs": [],
   "source": []
  }
 ],
 "metadata": {
  "kernelspec": {
   "display_name": "Python 3",
   "language": "python",
   "name": "python3"
  },
  "language_info": {
   "codemirror_mode": {
    "name": "ipython",
    "version": 3
   },
   "file_extension": ".py",
   "mimetype": "text/x-python",
   "name": "python",
   "nbconvert_exporter": "python",
   "pygments_lexer": "ipython3",
   "version": "3.7.7"
  }
 },
 "nbformat": 4,
 "nbformat_minor": 4
}
