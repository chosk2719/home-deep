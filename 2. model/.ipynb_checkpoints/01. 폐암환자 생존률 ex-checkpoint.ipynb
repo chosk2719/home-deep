{
 "cells": [
  {
   "cell_type": "markdown",
   "metadata": {},
   "source": [
    "## 폐암 수술 환자의 생존률 데이터 분석"
   ]
  },
  {
   "cell_type": "code",
   "execution_count": 5,
   "metadata": {},
   "outputs": [
    {
     "data": {
      "text/plain": [
       "'2.1.0'"
      ]
     },
     "execution_count": 5,
     "metadata": {},
     "output_type": "execute_result"
    }
   ],
   "source": [
    "import numpy as np\n",
    "import tensorflow as tf\n",
    "tf.__version__"
   ]
  },
  {
   "cell_type": "code",
   "execution_count": 6,
   "metadata": {},
   "outputs": [],
   "source": [
    "# 실행할 때마다 같은 결과를 출력하기 위한 seed 값 설정\n",
    "seed = 0 \n",
    "np.random.seed(seed)\n",
    "tf.random.set_seed(seed)"
   ]
  },
  {
   "cell_type": "code",
   "execution_count": 7,
   "metadata": {},
   "outputs": [
    {
     "data": {
      "text/plain": [
       "array([[293.  ,   1.  ,   3.8 ,   2.8 ,   0.  ,   0.  ,   0.  ,   0.  ,\n",
       "          0.  ,   0.  ,  12.  ,   0.  ,   0.  ,   0.  ,   1.  ,   0.  ,\n",
       "         62.  ,   0.  ],\n",
       "       [  1.  ,   2.  ,   2.88,   2.16,   1.  ,   0.  ,   0.  ,   0.  ,\n",
       "          1.  ,   1.  ,  14.  ,   0.  ,   0.  ,   0.  ,   1.  ,   0.  ,\n",
       "         60.  ,   0.  ],\n",
       "       [  8.  ,   2.  ,   3.19,   2.5 ,   1.  ,   0.  ,   0.  ,   0.  ,\n",
       "          1.  ,   0.  ,  11.  ,   0.  ,   0.  ,   1.  ,   1.  ,   0.  ,\n",
       "         66.  ,   1.  ]])"
      ]
     },
     "execution_count": 7,
     "metadata": {},
     "output_type": "execute_result"
    }
   ],
   "source": [
    "# 준비된 수술 환자 데이터를 불러들임\n",
    "Data_set = np.loadtxt(\"../Dataset/ThoraricSurgery.csv\", delimiter=\",\")\n",
    "Data_set[:3,:]"
   ]
  },
  {
   "cell_type": "code",
   "execution_count": 8,
   "metadata": {},
   "outputs": [
    {
     "data": {
      "text/plain": [
       "((470, 17), (470,))"
      ]
     },
     "execution_count": 8,
     "metadata": {},
     "output_type": "execute_result"
    }
   ],
   "source": [
    "# 환자의 기록과 수술 결과를 X와 Y로 구분하여 저장\n",
    "X = Data_set[:, 0:17]\n",
    "Y = Data_set[:, 17]\n",
    "X.shape, Y.shape"
   ]
  },
  {
   "cell_type": "code",
   "execution_count": 9,
   "metadata": {},
   "outputs": [],
   "source": [
    "from sklearn.model_selection import train_test_split"
   ]
  },
  {
   "cell_type": "code",
   "execution_count": 10,
   "metadata": {},
   "outputs": [],
   "source": [
    "from sklearn.model_selection import train_test_split\n",
    "# 환자의 기록과 수술 결과를 x와 y로 구분하여 저장\n",
    "from sklearn.model_selection import train_test_split\n",
    "x_train, x_test, y_train, y_test = train_test_split(X, Y, test_size=0.2, stratify=Y, random_state=seed)"
   ]
  },
  {
   "cell_type": "code",
   "execution_count": 11,
   "metadata": {},
   "outputs": [],
   "source": [
    "from tensorflow.keras.models import Sequential\n",
    "from tensorflow.keras.layers import Dense"
   ]
  },
  {
   "cell_type": "code",
   "execution_count": 12,
   "metadata": {},
   "outputs": [
    {
     "name": "stdout",
     "output_type": "stream",
     "text": [
      "Model: \"sequential\"\n",
      "_________________________________________________________________\n",
      "Layer (type)                 Output Shape              Param #   \n",
      "=================================================================\n",
      "dense (Dense)                (None, 30)                540       \n",
      "_________________________________________________________________\n",
      "dense_1 (Dense)              (None, 1)                 31        \n",
      "=================================================================\n",
      "Total params: 571\n",
      "Trainable params: 571\n",
      "Non-trainable params: 0\n",
      "_________________________________________________________________\n"
     ]
    }
   ],
   "source": [
    "# 딥러닝 모델 설정\n",
    "model = Sequential([\n",
    "    Dense(30, input_shape=(17,), activation='relu'),\n",
    "    Dense(1, activation='sigmoid')\n",
    "])\n",
    "model.summary()"
   ]
  },
  {
   "cell_type": "code",
   "execution_count": 13,
   "metadata": {},
   "outputs": [],
   "source": [
    "# 딥러닝 환경 설정 (오차함수, 최적화함수)\n",
    "model.compile(loss='binary_crossentropy', \n",
    "              optimizer='adam', metrics=['accuracy'])"
   ]
  },
  {
   "cell_type": "code",
   "execution_count": 14,
   "metadata": {},
   "outputs": [
    {
     "name": "stdout",
     "output_type": "stream",
     "text": [
      "Train on 300 samples, validate on 76 samples\n",
      "Epoch 1/20\n",
      "300/300 [==============================] - 1s 2ms/sample - loss: 5.6301 - accuracy: 0.5300 - val_loss: 1.1008 - val_accuracy: 0.8816\n",
      "Epoch 2/20\n",
      "300/300 [==============================] - 0s 185us/sample - loss: 1.1762 - accuracy: 0.8367 - val_loss: 0.7513 - val_accuracy: 0.8158\n",
      "Epoch 3/20\n",
      "300/300 [==============================] - 0s 135us/sample - loss: 0.6257 - accuracy: 0.7900 - val_loss: 0.5467 - val_accuracy: 0.8553\n",
      "Epoch 4/20\n",
      "300/300 [==============================] - 0s 144us/sample - loss: 0.5403 - accuracy: 0.8267 - val_loss: 0.4664 - val_accuracy: 0.8553\n",
      "Epoch 5/20\n",
      "300/300 [==============================] - 0s 134us/sample - loss: 0.5021 - accuracy: 0.8433 - val_loss: 0.5205 - val_accuracy: 0.8289\n",
      "Epoch 6/20\n",
      "300/300 [==============================] - 0s 145us/sample - loss: 0.4936 - accuracy: 0.8433 - val_loss: 0.4760 - val_accuracy: 0.8421\n",
      "Epoch 7/20\n",
      "300/300 [==============================] - 0s 146us/sample - loss: 0.4950 - accuracy: 0.8433 - val_loss: 0.4479 - val_accuracy: 0.8684\n",
      "Epoch 8/20\n",
      "300/300 [==============================] - 0s 141us/sample - loss: 0.5017 - accuracy: 0.8367 - val_loss: 0.4925 - val_accuracy: 0.8421\n",
      "Epoch 9/20\n",
      "300/300 [==============================] - 0s 147us/sample - loss: 0.4912 - accuracy: 0.8367 - val_loss: 0.5261 - val_accuracy: 0.7895\n",
      "Epoch 10/20\n",
      "300/300 [==============================] - 0s 149us/sample - loss: 0.4731 - accuracy: 0.8433 - val_loss: 0.4652 - val_accuracy: 0.8553\n",
      "Epoch 11/20\n",
      "300/300 [==============================] - 0s 136us/sample - loss: 0.4734 - accuracy: 0.8433 - val_loss: 0.4197 - val_accuracy: 0.8816\n",
      "Epoch 12/20\n",
      "300/300 [==============================] - 0s 141us/sample - loss: 0.4756 - accuracy: 0.8367 - val_loss: 0.4096 - val_accuracy: 0.8816\n",
      "Epoch 13/20\n",
      "300/300 [==============================] - 0s 138us/sample - loss: 0.4568 - accuracy: 0.8367 - val_loss: 0.4139 - val_accuracy: 0.8816\n",
      "Epoch 14/20\n",
      "300/300 [==============================] - 0s 152us/sample - loss: 0.4984 - accuracy: 0.8333 - val_loss: 0.4431 - val_accuracy: 0.8553\n",
      "Epoch 15/20\n",
      "300/300 [==============================] - 0s 161us/sample - loss: 0.4745 - accuracy: 0.8400 - val_loss: 0.3999 - val_accuracy: 0.8816\n",
      "Epoch 16/20\n",
      "300/300 [==============================] - 0s 157us/sample - loss: 0.4655 - accuracy: 0.8367 - val_loss: 0.4034 - val_accuracy: 0.8816\n",
      "Epoch 17/20\n",
      "300/300 [==============================] - 0s 133us/sample - loss: 0.4965 - accuracy: 0.8233 - val_loss: 0.4224 - val_accuracy: 0.8816\n",
      "Epoch 18/20\n",
      "300/300 [==============================] - 0s 153us/sample - loss: 0.4476 - accuracy: 0.8400 - val_loss: 0.4036 - val_accuracy: 0.8816\n",
      "Epoch 19/20\n",
      "300/300 [==============================] - 0s 167us/sample - loss: 0.4724 - accuracy: 0.8333 - val_loss: 0.4201 - val_accuracy: 0.8684\n",
      "Epoch 20/20\n",
      "300/300 [==============================] - 0s 171us/sample - loss: 0.4927 - accuracy: 0.8300 - val_loss: 0.4118 - val_accuracy: 0.8816\n"
     ]
    }
   ],
   "source": [
    "# 딥러닝 실행\n",
    "# validation set의 비율을 20%\n",
    "history=model.fit(x_train, y_train, validation_split=0.2, epochs=20, batch_size=10)"
   ]
  },
  {
   "cell_type": "code",
   "execution_count": 15,
   "metadata": {},
   "outputs": [
    {
     "name": "stdout",
     "output_type": "stream",
     "text": [
      "376/376 - 0s - loss: 0.4983 - accuracy: 0.8511\n",
      "\n",
      " Accuracy: 0.8511\n"
     ]
    }
   ],
   "source": [
    "# 결과 출력\n",
    "# evaluate() returns the loss value & metrics values for the model \n",
    "print(\"\\n Accuracy: %.4f\" % (model.evaluate(x_train, y_train, verbose=2))[1])"
   ]
  },
  {
   "cell_type": "code",
   "execution_count": 16,
   "metadata": {},
   "outputs": [
    {
     "data": {
      "text/plain": [
       "<tensorflow.python.keras.callbacks.History at 0x22a78d76cc8>"
      ]
     },
     "execution_count": 16,
     "metadata": {},
     "output_type": "execute_result"
    }
   ],
   "source": [
    "history"
   ]
  },
  {
   "cell_type": "code",
   "execution_count": 17,
   "metadata": {},
   "outputs": [],
   "source": [
    "import pandas as pd"
   ]
  },
  {
   "cell_type": "code",
   "execution_count": 18,
   "metadata": {},
   "outputs": [
    {
     "data": {
      "text/html": [
       "<div>\n",
       "<style scoped>\n",
       "    .dataframe tbody tr th:only-of-type {\n",
       "        vertical-align: middle;\n",
       "    }\n",
       "\n",
       "    .dataframe tbody tr th {\n",
       "        vertical-align: top;\n",
       "    }\n",
       "\n",
       "    .dataframe thead th {\n",
       "        text-align: right;\n",
       "    }\n",
       "</style>\n",
       "<table border=\"1\" class=\"dataframe\">\n",
       "  <thead>\n",
       "    <tr style=\"text-align: right;\">\n",
       "      <th></th>\n",
       "      <th>loss</th>\n",
       "      <th>accuracy</th>\n",
       "      <th>val_loss</th>\n",
       "      <th>val_accuracy</th>\n",
       "    </tr>\n",
       "  </thead>\n",
       "  <tbody>\n",
       "    <tr>\n",
       "      <th>0</th>\n",
       "      <td>5.630131</td>\n",
       "      <td>0.530000</td>\n",
       "      <td>1.100843</td>\n",
       "      <td>0.881579</td>\n",
       "    </tr>\n",
       "    <tr>\n",
       "      <th>1</th>\n",
       "      <td>1.176190</td>\n",
       "      <td>0.836667</td>\n",
       "      <td>0.751334</td>\n",
       "      <td>0.815789</td>\n",
       "    </tr>\n",
       "    <tr>\n",
       "      <th>2</th>\n",
       "      <td>0.625700</td>\n",
       "      <td>0.790000</td>\n",
       "      <td>0.546695</td>\n",
       "      <td>0.855263</td>\n",
       "    </tr>\n",
       "    <tr>\n",
       "      <th>3</th>\n",
       "      <td>0.540339</td>\n",
       "      <td>0.826667</td>\n",
       "      <td>0.466376</td>\n",
       "      <td>0.855263</td>\n",
       "    </tr>\n",
       "    <tr>\n",
       "      <th>4</th>\n",
       "      <td>0.502056</td>\n",
       "      <td>0.843333</td>\n",
       "      <td>0.520528</td>\n",
       "      <td>0.828947</td>\n",
       "    </tr>\n",
       "  </tbody>\n",
       "</table>\n",
       "</div>"
      ],
      "text/plain": [
       "       loss  accuracy  val_loss  val_accuracy\n",
       "0  5.630131  0.530000  1.100843      0.881579\n",
       "1  1.176190  0.836667  0.751334      0.815789\n",
       "2  0.625700  0.790000  0.546695      0.855263\n",
       "3  0.540339  0.826667  0.466376      0.855263\n",
       "4  0.502056  0.843333  0.520528      0.828947"
      ]
     },
     "execution_count": 18,
     "metadata": {},
     "output_type": "execute_result"
    }
   ],
   "source": [
    "df = pd.DataFrame(history.history)\n",
    "df.head()"
   ]
  },
  {
   "cell_type": "code",
   "execution_count": 19,
   "metadata": {},
   "outputs": [
    {
     "data": {
      "text/plain": [
       "[1.1008434303497012,\n",
       " 0.7513340970403269,\n",
       " 0.5466951453372052,\n",
       " 0.4663755681953932,\n",
       " 0.5205282698336401,\n",
       " 0.4759646140431103,\n",
       " 0.44792539744000687,\n",
       " 0.4924626687639638,\n",
       " 0.5260796531250602,\n",
       " 0.4651729582171691,\n",
       " 0.4196758913366418,\n",
       " 0.40956651556648704,\n",
       " 0.4138801078263082,\n",
       " 0.4431035722556867,\n",
       " 0.3998981726012732,\n",
       " 0.40342027027356,\n",
       " 0.4223791225568244,\n",
       " 0.4035754378296827,\n",
       " 0.42005896097735357,\n",
       " 0.4118317806799161]"
      ]
     },
     "execution_count": 19,
     "metadata": {},
     "output_type": "execute_result"
    }
   ],
   "source": [
    "history.history['accuracy']\n",
    "history.history['val_accuracy']\n",
    "history.history['loss']\n",
    "history.history['val_loss']"
   ]
  },
  {
   "cell_type": "code",
   "execution_count": null,
   "metadata": {},
   "outputs": [],
   "source": []
  },
  {
   "cell_type": "code",
   "execution_count": null,
   "metadata": {},
   "outputs": [],
   "source": []
  },
  {
   "cell_type": "code",
   "execution_count": null,
   "metadata": {},
   "outputs": [],
   "source": []
  }
 ],
 "metadata": {
  "kernelspec": {
   "display_name": "Python 3",
   "language": "python",
   "name": "python3"
  },
  "language_info": {
   "codemirror_mode": {
    "name": "ipython",
    "version": 3
   },
   "file_extension": ".py",
   "mimetype": "text/x-python",
   "name": "python",
   "nbconvert_exporter": "python",
   "pygments_lexer": "ipython3",
   "version": "3.7.7"
  }
 },
 "nbformat": 4,
 "nbformat_minor": 4
}
